{
 "cells": [
  {
   "cell_type": "code",
   "execution_count": 29,
   "metadata": {},
   "outputs": [
    {
     "name": "stderr",
     "output_type": "stream",
     "text": [
      "/home/brian/anaconda3/envs/pytorch/lib/python3.9/site-packages/IPython/core/interactiveshell.py:3550: DtypeWarning: Columns (0,1,2,3,4,5,6,7,8,9,10,11,12,13,14,15,16,17,18,19,20,21,22,23,24,25,26,27,28,29,30,31,32,33,34,35,36,37,38,39,40,41,42,43,44,45,46,47,48,49,50,51,52,53,54,55,56,57,58,59,60,61,62,63,64,65,66,67,68,69,70,71,72,73,74,75,76,77) have mixed types.Specify dtype option on import or set low_memory=False.\n",
      "  exec(code_obj, self.user_global_ns, self.user_ns)\n"
     ]
    }
   ],
   "source": [
    "## Get data\n",
    "\n",
    "import pandas as pd\n",
    "import csv\n",
    "import matplotlib.pyplot as plt\n",
    "import numpy as np\n",
    "from trajectory import rat_trajectory\n",
    "from scipy.interpolate import interp1d\n",
    "\n",
    "#Perameters\n",
    "shape = 'Sqr'\n",
    "\n",
    "# cell_name = f' C{cell_num:03}'\n",
    "spk_filename = f'data/B6_8_1_{shape}_Spike.csv'\n",
    "trc_filename = f'data/B6_8_1_{shape}_Trace.csv'\n",
    "\n",
    "# Read the CSV file\n",
    "df = pd.read_csv(trc_filename, header=None)\n",
    "\n",
    "# Get cell numbers\n",
    "cell_numbers = df.iloc[0].dropna().tolist()[1:]\n",
    "trace_per_cell = {cell: [] for cell in cell_numbers}\n",
    "\n",
    "# Get time data\n",
    "time_data = [float(i) for i in df.iloc[2:, 0].tolist()]\n",
    "start_time = time_data[0]\n",
    "time_data = [time_data[i] - start_time for i in range(len(time_data))]\n",
    "\n",
    "traj_time, x_pos, y_pos, head_dir, velocity = rat_trajectory(shape)\n",
    "\n",
    "\n",
    "# get trace data from each cell + interpolate\n",
    "for i in range(np.shape(df.iloc[2:])[1] - 1):\n",
    "    cell_name = np.asarray(cell_numbers)[i]\n",
    "    trace_data = [float(i) for i in df.iloc[2:, i+1].tolist()]\n",
    "    time_interp = interp1d(time_data, trace_data)\n",
    "\n",
    "    trace_data = time_interp(traj_time)\n",
    "    trace_data = (trace_data - np.mean(trace_data)) / np.std(trace_data)\n",
    "    trace_per_cell[cell_name] = trace_data.tolist()"
   ]
  },
  {
   "cell_type": "code",
   "execution_count": 30,
   "metadata": {},
   "outputs": [],
   "source": [
    "## NaN interpolation ##\n",
    "# For x_pos\n",
    "invalid_x_pos = np.isnan(x_pos)\n",
    "x_pos_interp = x_pos.copy()\n",
    "x_valid = np.where(~invalid_x_pos)[0]\n",
    "x_pos_interp[invalid_x_pos] = np.interp(np.where(invalid_x_pos)[0], x_valid, x_pos[x_valid])\n",
    "\n",
    "# For y_pos\n",
    "invalid_y_pos = np.isnan(y_pos)\n",
    "y_pos_interp = y_pos.copy()\n",
    "y_valid = np.where(~invalid_y_pos)[0]\n",
    "y_pos_interp[invalid_y_pos] = np.interp(np.where(invalid_y_pos)[0], y_valid, y_pos[y_valid])\n",
    "\n",
    "# For HD\n",
    "invalid_hd = np.isnan(head_dir)\n",
    "hd_interp = head_dir.copy()\n",
    "hd_valid = np.where(~invalid_hd)[0]\n",
    "hd_interp[invalid_hd] = np.interp(np.where(invalid_hd)[0], hd_valid, head_dir[hd_valid])\n",
    "\n",
    "# For vel\n",
    "invalide_vel = np.isnan(velocity)\n",
    "vel_interp = velocity.copy()\n",
    "vel_valid = np.where(~invalide_vel)[0]\n",
    "vel_interp[invalide_vel] = np.interp(np.where(invalide_vel)[0], vel_valid, velocity[vel_valid])\n",
    "\n",
    "# Update the original arrays\n",
    "x_pos = x_pos_interp\n",
    "y_pos = y_pos_interp\n",
    "head_dir = hd_interp\n",
    "velocity = vel_interp\n",
    "\n",
    "# discard index where velocity < threshold\n",
    "threshold = 2\n",
    "moving_idx = [i for i, x in enumerate(velocity) if x > threshold]\n"
   ]
  },
  {
   "cell_type": "code",
   "execution_count": 31,
   "metadata": {},
   "outputs": [
    {
     "name": "stdout",
     "output_type": "stream",
     "text": [
      "(26989, 77)\n"
     ]
    }
   ],
   "source": [
    "def find_nearest_time_index(spike_time, traj_time):\n",
    "    return np.argmin(np.abs(np.array(traj_time) - spike_time))\n",
    "\n",
    "total_trace = np.zeros((len(traj_time), len(cell_numbers)))\n",
    "\n",
    "# Iterate through cells and their spike times\n",
    "for i, cell in enumerate(cell_numbers):\n",
    "    total_trace[:, i] = np.asarray(trace_per_cell[cell])\n",
    "\n",
    "print(np.shape(total_trace))"
   ]
  },
  {
   "cell_type": "code",
   "execution_count": 32,
   "metadata": {},
   "outputs": [],
   "source": [
    "# index = [4, 7, 18, 25, 29, 30, 31, 33, 37, 43, 51, 53, 54, 55, 60, 65, 66, 67, 9, 10, 13, 15, 21, 22, 23, 36, 38, 41, 42, 47, 52, 59, 61, 73]\n",
    "index1 = [20, 24, 32, 40, 44, 45, 46, 50, 56, 58, 62, 63, 64, 68, 69, 71, 72, 75, 76, 4, 7, 18, 25, 29, 30, 31, 33, 37, 43, 51, 53, 54, 55, 60, 65, 66, 67]\n",
    "index2 = [9, 10, 13, 15, 21, 22, 23, 36, 38, 41, 42, 47, 52, 59, 61, 73]"
   ]
  },
  {
   "cell_type": "code",
   "execution_count": 33,
   "metadata": {},
   "outputs": [
    {
     "name": "stdout",
     "output_type": "stream",
     "text": [
      "Indices for population 1 (lower 50%): (21591,)\n",
      "Indices for population 2 (lower 50%): (21591,)\n",
      "(21591, 77) (21591, 77)\n"
     ]
    }
   ],
   "source": [
    "nn_trace_per_cell = {cell: [] for cell in cell_numbers}\n",
    "\n",
    "# get trace data from each cell + interpolate\n",
    "for i in range(np.shape(df.iloc[2:])[1] - 1):\n",
    "    cell_name = np.asarray(cell_numbers)[i]\n",
    "    trace_data = [float(i) for i in df.iloc[2:, i+1].tolist()]\n",
    "    time_interp = interp1d(time_data, trace_data)\n",
    "\n",
    "    trace_data = time_interp(traj_time)\n",
    "    nn_trace_per_cell[cell_name] = trace_data.tolist()\n",
    "\n",
    "nn_total_trace = np.zeros((len(traj_time), len(cell_numbers)))\n",
    "\n",
    "# Iterate through cells and their spike times\n",
    "for i, cell in enumerate(cell_numbers):\n",
    "    nn_total_trace[:, i] = np.asarray(nn_trace_per_cell[cell])\n",
    "\n",
    "def get_higher_percent_indices(trace_data, population_indices):\n",
    "    # Calculate mean trace rate for the population\n",
    "    population_trace = trace_data[:, population_indices]\n",
    "    mean_trace_rate = np.mean(population_trace, axis=1)\n",
    "    \n",
    "    # Calculate the 40th percentile threshold\n",
    "    threshold = np.percentile(mean_trace_rate, 20)\n",
    "    \n",
    "    # Get indices where mean trace rate is below the threshold\n",
    "    higher_half = np.where(mean_trace_rate > threshold)[0]\n",
    "    \n",
    "    return higher_half\n",
    "\n",
    "# For population 1\n",
    "higher_pop1 = get_higher_percent_indices(nn_total_trace, index1)\n",
    "\n",
    "# For population 2\n",
    "higher_pop2 = get_higher_percent_indices(nn_total_trace, index2)\n",
    "\n",
    "print(\"Indices for population 1 (lower 50%):\", np.shape(higher_pop1))\n",
    "print(\"Indices for population 2 (lower 50%):\", np.shape(higher_pop2))\n",
    "\n",
    "total_trace1 = total_trace[higher_pop1, :]\n",
    "total_trace2 = total_trace[higher_pop2, :]\n",
    "\n",
    "print(np.shape(total_trace1), np.shape(total_trace2))"
   ]
  },
  {
   "cell_type": "code",
   "execution_count": 34,
   "metadata": {},
   "outputs": [],
   "source": [
    "import sys\n",
    "import numpy as np\n",
    "import matplotlib.pyplot as plt\n",
    "import seaborn as sns\n",
    "import pandas as pd\n",
    "from matplotlib.collections import LineCollection\n",
    "\n",
    "import cebra.datasets\n",
    "import cebra\n",
    "from cebra import CEBRA"
   ]
  },
  {
   "cell_type": "code",
   "execution_count": 35,
   "metadata": {},
   "outputs": [],
   "source": [
    "max_iterations = 1000 #default is 5000."
   ]
  },
  {
   "cell_type": "code",
   "execution_count": 36,
   "metadata": {},
   "outputs": [],
   "source": [
    "neural1 = total_trace1[:, index1] #index at 2\n",
    "neural2 = total_trace2[:, index2] #index at 2"
   ]
  },
  {
   "cell_type": "code",
   "execution_count": 37,
   "metadata": {},
   "outputs": [
    {
     "name": "stdout",
     "output_type": "stream",
     "text": [
      "(21591, 4) (21591, 4)\n"
     ]
    }
   ],
   "source": [
    "if shape == 'Hex':\n",
    "    # normalize\n",
    "    x_pos = x_pos / 10\n",
    "    y_pos = y_pos / 10\n",
    "\n",
    "    # to radial coordinates\n",
    "    x_pos_ori, y_pos_ori = x_pos, y_pos\n",
    "    theta = np.arctan(x_pos / y_pos)\n",
    "    rad = np.sqrt(x_pos ** 2 + y_pos ** 2)\n",
    "    continuous_index = np.column_stack((rad, theta))\n",
    "\n",
    "elif shape == 'Tri':\n",
    "    d_left = np.abs(1.586 * x_pos - y_pos + 25.241) / 1.876\n",
    "    d_right = np.abs(-1.846 * x_pos - y_pos + 24.462) / 2.103\n",
    "    d_bottom = np.abs(-0.036 * x_pos - y_pos - 16.836) / 1.001\n",
    "\n",
    "    #normalize\n",
    "    d_left, d_right, d_bottom = d_left/10, d_right/10, d_bottom/10\n",
    "    continuous_index = np.column_stack((d_left, d_right, d_bottom))\n",
    "\n",
    "elif shape == 'Sqr':\n",
    "    # normalize\n",
    "    x_pos = x_pos / 10\n",
    "    y_pos = y_pos / 10\n",
    "\n",
    "    min_x = np.min(x_pos)\n",
    "    max_x = np.max(x_pos)\n",
    "    min_y = np.min(y_pos)\n",
    "    max_y = np.max(y_pos)\n",
    "\n",
    "    continuous_index = np.column_stack((x_pos-min_x, max_x-x_pos, y_pos-min_y, max_y-y_pos))\n",
    "\n",
    "continuous_index1 = continuous_index[higher_pop1, :]\n",
    "continuous_index2 = continuous_index[higher_pop2, :]\n",
    "\n",
    "print(np.shape(continuous_index1), np.shape(continuous_index2))"
   ]
  },
  {
   "cell_type": "code",
   "execution_count": 38,
   "metadata": {},
   "outputs": [
    {
     "name": "stderr",
     "output_type": "stream",
     "text": [
      "  0%|          | 0/1000 [00:00<?, ?it/s]"
     ]
    },
    {
     "name": "stderr",
     "output_type": "stream",
     "text": [
      "pos: -0.5889 neg:  6.3437 total:  5.7547 temperature:  1.5000: 100%|██████████| 1000/1000 [01:05<00:00, 15.23it/s]\n",
      "pos: -0.5967 neg:  6.3462 total:  5.7495 temperature:  1.5000: 100%|██████████| 1000/1000 [01:05<00:00, 15.19it/s]\n",
      "pos: -0.5947 neg:  6.3460 total:  5.7513 temperature:  1.5000: 100%|██████████| 1000/1000 [01:41<00:00,  9.81it/s]\n"
     ]
    }
   ],
   "source": [
    "cebra_posdir3_model = CEBRA(model_architecture='offset10-model',\n",
    "                        batch_size=512,\n",
    "                        learning_rate=3e-4,\n",
    "                        temperature_mode = 'constant',\n",
    "                        temperature=1.5,\n",
    "                        min_temperature = 1e-1,\n",
    "                        output_dimension=3,\n",
    "                        max_iterations=max_iterations,\n",
    "                        distance='cosine',\n",
    "                        conditional='time_delta',\n",
    "                        device='cuda_if_available',\n",
    "                        verbose=True,\n",
    "                        time_offsets=10,\n",
    "                        hybrid=False)\n",
    "\n",
    "cebra_posdir8_model= CEBRA(model_architecture='offset10-model',\n",
    "                        batch_size=512,\n",
    "                        learning_rate=3e-4,\n",
    "                        temperature_mode = 'constant',\n",
    "                        temperature=1.5,\n",
    "                        min_temperature = 1e-1,\n",
    "                        output_dimension=8,\n",
    "                        max_iterations=max_iterations,\n",
    "                        distance='cosine',\n",
    "                        conditional='time_delta',\n",
    "                        device='cuda_if_available',\n",
    "                        verbose=True,\n",
    "                        time_offsets=10,\n",
    "                        hybrid=False)\n",
    "\n",
    "cebra_posdir16_model = CEBRA(model_architecture='offset10-model',\n",
    "                        batch_size=512,\n",
    "                        learning_rate=3e-4,\n",
    "                        temperature_mode = 'constant',\n",
    "                        temperature=1.5,\n",
    "                        min_temperature = 1e-1,\n",
    "                        output_dimension=16,\n",
    "                        max_iterations=max_iterations,\n",
    "                        distance='cosine',\n",
    "                        conditional='time_delta',\n",
    "                        device='cuda_if_available',\n",
    "                        verbose=True,\n",
    "                        time_offsets=10,\n",
    "                        hybrid=False)\n",
    "\n",
    "cebra_posdir3_model.fit(neural1, continuous_index1)\n",
    "cebra_posdir3_model.save(\"models/cebra_posdir3_model.pt\")\n",
    "\n",
    "cebra_posdir8_model.fit(neural1, continuous_index1)\n",
    "cebra_posdir8_model.save(\"models/cebra_posdir8_model.pt\")\n",
    "\n",
    "cebra_posdir16_model.fit(neural1, continuous_index1)\n",
    "cebra_posdir16_model.save(\"models/cebra_posdir16_model.pt\")"
   ]
  },
  {
   "cell_type": "code",
   "execution_count": 39,
   "metadata": {},
   "outputs": [],
   "source": [
    "cebra_posdir3_model = cebra.CEBRA.load(\"models/cebra_posdir3_model.pt\")\n",
    "cebra_posdir3_1 = cebra_posdir3_model.transform(neural1)\n",
    "\n",
    "cebra_posdir8_model = cebra.CEBRA.load(\"models/cebra_posdir8_model.pt\")\n",
    "cebra_posdir8_1 = cebra_posdir8_model.transform(neural1)\n",
    "\n",
    "cebra_posdir16_model = cebra.CEBRA.load(\"models/cebra_posdir16_model.pt\")\n",
    "cebra_posdir16_1 = cebra_posdir16_model.transform(neural1)"
   ]
  },
  {
   "cell_type": "code",
   "execution_count": 40,
   "metadata": {},
   "outputs": [
    {
     "name": "stderr",
     "output_type": "stream",
     "text": [
      "pos: -0.4915 neg:  6.3327 total:  5.8412 temperature:  1.5000: 100%|██████████| 1000/1000 [01:10<00:00, 14.15it/s]\n",
      "pos: -0.4539 neg:  6.3290 total:  5.8751 temperature:  1.5000: 100%|██████████| 1000/1000 [01:48<00:00,  9.22it/s]\n",
      "pos: -0.4635 neg:  6.3306 total:  5.8670 temperature:  1.5000: 100%|██████████| 1000/1000 [01:55<00:00,  8.67it/s]\n"
     ]
    }
   ],
   "source": [
    "cebra_posdir3_model = CEBRA(model_architecture='offset10-model',\n",
    "                        batch_size=512,\n",
    "                        learning_rate=3e-4,\n",
    "                        temperature_mode = 'constant',\n",
    "                        temperature=1.5,\n",
    "                        min_temperature = 1e-1,\n",
    "                        output_dimension=3,\n",
    "                        max_iterations=max_iterations,\n",
    "                        distance='cosine',\n",
    "                        conditional='time_delta',\n",
    "                        device='cuda_if_available',\n",
    "                        verbose=True,\n",
    "                        time_offsets=10,\n",
    "                        hybrid=False)\n",
    "\n",
    "cebra_posdir8_model= CEBRA(model_architecture='offset10-model',\n",
    "                        batch_size=512,\n",
    "                        learning_rate=3e-4,\n",
    "                        temperature_mode = 'constant',\n",
    "                        temperature=1.5,\n",
    "                        min_temperature = 1e-1,\n",
    "                        output_dimension=8,\n",
    "                        max_iterations=max_iterations,\n",
    "                        distance='cosine',\n",
    "                        conditional='time_delta',\n",
    "                        device='cuda_if_available',\n",
    "                        verbose=True,\n",
    "                        time_offsets=10,\n",
    "                        hybrid=False)\n",
    "\n",
    "cebra_posdir16_model = CEBRA(model_architecture='offset10-model',\n",
    "                        batch_size=512,\n",
    "                        learning_rate=3e-4,\n",
    "                        temperature_mode = 'constant',\n",
    "                        temperature=1.5,\n",
    "                        min_temperature = 1e-1,\n",
    "                        output_dimension=16,\n",
    "                        max_iterations=max_iterations,\n",
    "                        distance='cosine',\n",
    "                        conditional='time_delta',\n",
    "                        device='cuda_if_available',\n",
    "                        verbose=True,\n",
    "                        time_offsets=10,\n",
    "                        hybrid=False)\n",
    "\n",
    "cebra_posdir3_model.fit(neural2, continuous_index2)\n",
    "\n",
    "cebra_posdir8_model.fit(neural2, continuous_index2)\n",
    "\n",
    "cebra_posdir16_model.fit(neural2, continuous_index2)\n",
    "\n",
    "cebra_posdir3_2 = cebra_posdir3_model.transform(neural2)\n",
    "cebra_posdir8_2 = cebra_posdir8_model.transform(neural2)\n",
    "cebra_posdir16_2 = cebra_posdir16_model.transform(neural2)"
   ]
  },
  {
   "cell_type": "code",
   "execution_count": 62,
   "metadata": {},
   "outputs": [],
   "source": [
    "embedding_labels = np.exp(np.minimum(np.minimum(continuous_index[:, 0], continuous_index[:, 1]), np.minimum(continuous_index[:, 2], continuous_index[:, 3])))\n",
    "norm = plt.Normalize(embedding_labels.min(), embedding_labels.max())\n",
    "normalized_index = norm(embedding_labels)\n",
    "\n",
    "# dist_from_center = np.sqrt(((max_x + min_x)/2 - x_pos)**2 + ((max_y + min_y)/2 - y_pos)**2)\n",
    "# norm = plt.Normalize(dist_from_center.min(), dist_from_center.max())\n",
    "# normalized_index = norm(dist_from_center)\n",
    "\n",
    "# Choose colormap ('cool' or 'viridis')\n",
    "cmap = plt.get_cmap('plasma')  # or 'viridis'\n",
    "\n",
    "# Get RGB values (0-1 range)\n",
    "colors_float = cmap(normalized_index)[:, :3]\n",
    "\n",
    "# Convert to 0-255 range for PLY file\n",
    "colors = (colors_float * 255).astype(int)\n",
    "colors1 = colors[higher_pop1]\n",
    "colors2 = colors[higher_pop2]\n",
    "colors_uint8 = np.concatenate([colors1, colors2])\n",
    "\n",
    "# blue = np.array([0, 0, 1])  # RGB for blue\n",
    "# orange = np.array([1, 0.5, 0])  # RGB for orange\n",
    "\n",
    "# # Create color array\n",
    "# colors = np.zeros((len(cebra_posdir3_1) + len(cebra_posdir3_2), 3))\n",
    "# colors[:len(cebra_posdir3_1)] = blue\n",
    "# colors[len(cebra_posdir3_2):] = orange\n",
    "\n",
    "# # If you need the colors as uint8 (0-255 range) for some visualizations:\n",
    "# colors_uint8 = (colors * 255).astype(np.uint8)\n",
    "\n",
    "# Function to write colored PLY file\n",
    "def write_colored_ply(filename, points, colors):\n",
    "    with open(filename, 'w') as f:\n",
    "        f.write(\"ply\\n\")\n",
    "        f.write(\"format ascii 1.0\\n\")\n",
    "        f.write(f\"element vertex {len(points)}\\n\")\n",
    "        f.write(\"property float x\\n\")\n",
    "        f.write(\"property float y\\n\")\n",
    "        f.write(\"property float z\\n\")\n",
    "        f.write(\"property uchar red\\n\")\n",
    "        f.write(\"property uchar green\\n\")\n",
    "        f.write(\"property uchar blue\\n\")\n",
    "        f.write(\"end_header\\n\")\n",
    "        for point, color in zip(points, colors):\n",
    "            f.write(f\"{point[0]} {point[1]} {point[2]} {color[0]} {color[1]} {color[2]}\\n\")\n",
    "\n",
    "# Write the colored PLY file\n",
    "dim = 3\n",
    "write_colored_ply(f\"embedding_3d_structures/colored_points_{dim}_{shape}.ply\", np.concatenate([cebra_posdir3_1, cebra_posdir3_2]), colors_uint8)\n",
    "dim = 8\n",
    "write_colored_ply(f\"embedding_3d_structures/colored_points_{dim}_{shape}.ply\", np.concatenate([cebra_posdir8_1, cebra_posdir8_2]), colors_uint8)\n",
    "dim = 16\n",
    "write_colored_ply(f\"embedding_3d_structures/colored_points_{dim}_{shape}.ply\", np.concatenate([cebra_posdir16_1, cebra_posdir16_2]), colors_uint8)"
   ]
  },
  {
   "cell_type": "code",
   "execution_count": 42,
   "metadata": {},
   "outputs": [
    {
     "data": {
      "text/plain": [
       "'from matplotlib import pyplot as plt\\n\\n# embedding_labels = (continuous_index[:, 0] < 0.2) & (continuous_index[:, 3] < 0.2)\\nembedding_labels = continuous_index[:, 1]\\n\\nfig = plt.figure(figsize = (10,3), dpi = 100)\\nax1 = plt.subplot(131,projection=\\'3d\\')\\nax1 = cebra.plot_embedding(ax=ax1, embedding=cebra_posdir3[:,:], embedding_labels=embedding_labels, cmap=\"cool\")\\nax2 = plt.subplot(132,projection=\\'3d\\')\\nax2 = cebra.plot_embedding(ax=ax2, embedding=cebra_posdir8[:,:], embedding_labels=embedding_labels, cmap=\"cool\")\\nax3 = plt.subplot(133,projection=\\'3d\\')\\nax3 = cebra.plot_embedding(ax=ax3, embedding=cebra_posdir16[:,:], embedding_labels=embedding_labels, cmap=\"cool\")\\n\\nax1.set_title(\\'CEBRA-Dim 3\\')\\nax2.set_title(\\'CEBRA-Dim 8\\')\\nax3.set_title(\\'CEBRA-Dim 16\\')\\nplt.savefig(\\'./Figures-cebra/0722_Tri_trace_both_timelag\\')\\nplt.show()'"
      ]
     },
     "execution_count": 42,
     "metadata": {},
     "output_type": "execute_result"
    }
   ],
   "source": [
    "'''from matplotlib import pyplot as plt\n",
    "\n",
    "# embedding_labels = (continuous_index[:, 0] < 0.2) & (continuous_index[:, 3] < 0.2)\n",
    "embedding_labels = continuous_index[:, 1]\n",
    "\n",
    "fig = plt.figure(figsize = (10,3), dpi = 100)\n",
    "ax1 = plt.subplot(131,projection='3d')\n",
    "ax1 = cebra.plot_embedding(ax=ax1, embedding=cebra_posdir3[:,:], embedding_labels=embedding_labels, cmap=\"cool\")\n",
    "ax2 = plt.subplot(132,projection='3d')\n",
    "ax2 = cebra.plot_embedding(ax=ax2, embedding=cebra_posdir8[:,:], embedding_labels=embedding_labels, cmap=\"cool\")\n",
    "ax3 = plt.subplot(133,projection='3d')\n",
    "ax3 = cebra.plot_embedding(ax=ax3, embedding=cebra_posdir16[:,:], embedding_labels=embedding_labels, cmap=\"cool\")\n",
    "\n",
    "ax1.set_title('CEBRA-Dim 3')\n",
    "ax2.set_title('CEBRA-Dim 8')\n",
    "ax3.set_title('CEBRA-Dim 16')\n",
    "plt.savefig('./Figures-cebra/0722_Tri_trace_both_timelag')\n",
    "plt.show()'''"
   ]
  },
  {
   "cell_type": "code",
   "execution_count": 44,
   "metadata": {},
   "outputs": [
    {
     "name": "stderr",
     "output_type": "stream",
     "text": [
      "pos: -0.3614 neg:  6.5371 total:  6.1757 temperature:  1.5000: 100%|██████████| 1000/1000 [01:28<00:00, 11.33it/s]\n",
      "pos: -0.3024 neg:  6.4597 total:  6.1574 temperature:  1.5000: 100%|██████████| 1000/1000 [01:56<00:00,  8.59it/s]\n",
      "pos: -0.2882 neg:  6.4457 total:  6.1575 temperature:  1.5000: 100%|██████████| 1000/1000 [02:10<00:00,  7.66it/s]\n"
     ]
    }
   ],
   "source": [
    "shuffled_index = np.random.permutation(continuous_index1)\n",
    "# index = (5, 46) #30, 41, 46, 50, 67, 70\n",
    "# neural = total_trace[:, index] # 78, 50, 68, 84, 122, 133\n",
    "\n",
    "shuffled_cebra_posdir3_model = CEBRA(model_architecture='offset10-model',\n",
    "                        batch_size=512,\n",
    "                        learning_rate=3e-4,\n",
    "                        temperature=1.5,\n",
    "                        output_dimension=3,\n",
    "                        max_iterations=max_iterations,\n",
    "                        distance='cosine',\n",
    "                        conditional='time_delta',\n",
    "                        device='cuda_if_available',\n",
    "                        verbose=True,\n",
    "                        time_offsets=10)\n",
    "\n",
    "shuffled_cebra_posdir8_model= CEBRA(model_architecture='offset10-model',\n",
    "                        batch_size=512,\n",
    "                        learning_rate=3e-4,\n",
    "                        temperature=1.5,\n",
    "                        output_dimension=8,\n",
    "                        max_iterations=max_iterations,\n",
    "                        distance='cosine',\n",
    "                        conditional='time_delta',\n",
    "                        device='cuda_if_available',\n",
    "                        verbose=True,\n",
    "                        time_offsets=10)\n",
    "\n",
    "shuffled_cebra_posdir16_model = CEBRA(model_architecture='offset10-model',\n",
    "                        batch_size=512,\n",
    "                        learning_rate=3e-4,\n",
    "                        temperature=1.5,\n",
    "                        output_dimension=16,\n",
    "                        max_iterations=max_iterations,\n",
    "                        distance='cosine',\n",
    "                        conditional='time_delta',\n",
    "                        device='cuda_if_available',\n",
    "                        verbose=True,\n",
    "                        time_offsets=10)\n",
    "\n",
    "shuffled_cebra_posdir3_model.fit(neural1, shuffled_index)\n",
    "\n",
    "shuffled_cebra_posdir8_model.fit(neural1, shuffled_index)\n",
    "\n",
    "shuffled_cebra_posdir16_model.fit(neural1, shuffled_index)\n",
    "\n",
    "shuffled_cebra_posdir3_1 = shuffled_cebra_posdir3_model.transform(neural1)\n",
    "\n",
    "shuffled_cebra_posdir8_1 = shuffled_cebra_posdir8_model.transform(neural1)\n",
    "\n",
    "shuffled_cebra_posdir16_1 = shuffled_cebra_posdir16_model.transform(neural1)"
   ]
  },
  {
   "cell_type": "code",
   "execution_count": 45,
   "metadata": {},
   "outputs": [
    {
     "name": "stderr",
     "output_type": "stream",
     "text": [
      "pos: -0.3774 neg:  6.5677 total:  6.1903 temperature:  1.5000: 100%|██████████| 1000/1000 [01:46<00:00,  9.39it/s]\n",
      "pos: -0.3219 neg:  6.4793 total:  6.1574 temperature:  1.5000: 100%|██████████| 1000/1000 [01:14<00:00, 13.48it/s]\n",
      "pos: -0.3050 neg:  6.4677 total:  6.1627 temperature:  1.5000: 100%|██████████| 1000/1000 [02:08<00:00,  7.81it/s]\n"
     ]
    }
   ],
   "source": [
    "# index = (5, 46) #30, 41, 46, 50, 67, 70\n",
    "# neural = total_trace[:, index] # 78, 50, 68, 84, 122, 133\n",
    "shuffled_index = np.random.permutation(continuous_index2)\n",
    "\n",
    "shuffled_cebra_posdir3_model = CEBRA(model_architecture='offset10-model',\n",
    "                        batch_size=512,\n",
    "                        learning_rate=3e-4,\n",
    "                        temperature=1.5,\n",
    "                        output_dimension=3,\n",
    "                        max_iterations=max_iterations,\n",
    "                        distance='cosine',\n",
    "                        conditional='time_delta',\n",
    "                        device='cuda_if_available',\n",
    "                        verbose=True,\n",
    "                        time_offsets=10)\n",
    "\n",
    "shuffled_cebra_posdir8_model= CEBRA(model_architecture='offset10-model',\n",
    "                        batch_size=512,\n",
    "                        learning_rate=3e-4,\n",
    "                        temperature=1.5,\n",
    "                        output_dimension=8,\n",
    "                        max_iterations=max_iterations,\n",
    "                        distance='cosine',\n",
    "                        conditional='time_delta',\n",
    "                        device='cuda_if_available',\n",
    "                        verbose=True,\n",
    "                        time_offsets=10)\n",
    "\n",
    "shuffled_cebra_posdir16_model = CEBRA(model_architecture='offset10-model',\n",
    "                        batch_size=512,\n",
    "                        learning_rate=3e-4,\n",
    "                        temperature=1.5,\n",
    "                        output_dimension=16,\n",
    "                        max_iterations=max_iterations,\n",
    "                        distance='cosine',\n",
    "                        conditional='time_delta',\n",
    "                        device='cuda_if_available',\n",
    "                        verbose=True,\n",
    "                        time_offsets=10)\n",
    "\n",
    "shuffled_cebra_posdir3_model.fit(neural2, shuffled_index)\n",
    "\n",
    "shuffled_cebra_posdir8_model.fit(neural2, shuffled_index)\n",
    "\n",
    "shuffled_cebra_posdir16_model.fit(neural2, shuffled_index)\n",
    "\n",
    "shuffled_cebra_posdir3_2 = shuffled_cebra_posdir3_model.transform(neural2)\n",
    "\n",
    "shuffled_cebra_posdir8_2 = shuffled_cebra_posdir8_model.transform(neural2)\n",
    "\n",
    "shuffled_cebra_posdir16_2 = shuffled_cebra_posdir16_model.transform(neural2)"
   ]
  },
  {
   "cell_type": "code",
   "execution_count": 46,
   "metadata": {},
   "outputs": [],
   "source": [
    "cebra_posdir3 = np.concatenate([cebra_posdir3_1, cebra_posdir3_2])\n",
    "cebra_posdir8 = np.concatenate([cebra_posdir8_1, cebra_posdir8_2])\n",
    "cebra_posdir16 = np.concatenate([cebra_posdir16_1, cebra_posdir16_2])\n",
    "\n",
    "shuffled_cebra_posdir3 = np.concatenate([shuffled_cebra_posdir3_1, shuffled_cebra_posdir3_2])\n",
    "shuffled_cebra_posdir8 = np.concatenate([shuffled_cebra_posdir8_1, shuffled_cebra_posdir8_2])\n",
    "shuffled_cebra_posdir16 = np.concatenate([shuffled_cebra_posdir16_1, shuffled_cebra_posdir16_2])"
   ]
  },
  {
   "cell_type": "code",
   "execution_count": 47,
   "metadata": {},
   "outputs": [],
   "source": [
    "import ripser\n",
    "\n",
    "maxdim=1 # set to 2 to compute up to H2. The computing time is considerably longer. \n",
    "\n",
    "np.random.seed(111)\n",
    "random_idx=np.random.permutation(np.arange(len(cebra_posdir3)))[:1000]\n",
    "topology_dimension = {}\n",
    "for embedding in [cebra_posdir3, cebra_posdir8, cebra_posdir16]:\n",
    "    ripser_output=ripser.ripser(embedding[random_idx], maxdim=maxdim, coeff=47)\n",
    "    dimension = embedding.shape[1]\n",
    "    topology_dimension[dimension] = ripser_output"
   ]
  },
  {
   "cell_type": "code",
   "execution_count": 48,
   "metadata": {},
   "outputs": [],
   "source": [
    "np.random.seed(111)\n",
    "topology_random_dimension = {}\n",
    "for embedding in [shuffled_cebra_posdir3, shuffled_cebra_posdir8, shuffled_cebra_posdir16]:\n",
    "    ripser_output=ripser.ripser(embedding[random_idx], maxdim=maxdim, coeff=47)\n",
    "    dimension = embedding.shape[1]\n",
    "    topology_random_dimension[dimension] = ripser_output"
   ]
  },
  {
   "cell_type": "code",
   "execution_count": 49,
   "metadata": {},
   "outputs": [
    {
     "name": "stdout",
     "output_type": "stream",
     "text": [
      "(1000, 2)\n"
     ]
    }
   ],
   "source": [
    "print(np.shape(np.asarray(topology_random_dimension[3]['dgms'][0])))"
   ]
  },
  {
   "cell_type": "code",
   "execution_count": 50,
   "metadata": {},
   "outputs": [],
   "source": [
    "def plot_barcode(topology_result, maxdim):\n",
    "    fig, axs = plt.subplots(maxdim+1, 1, sharex=True, figsize=(7, 8))\n",
    "    axs[0].set_xlim(0,2)\n",
    "    cocycle = [\"Points\", \"Loops\", \"Voids\"]\n",
    "    for k in range(maxdim+1):\n",
    "        bars = topology_result['dgms'][k]\n",
    "        bars[bars == np.inf] = 2\n",
    "        lc = (\n",
    "            np.vstack(\n",
    "                [\n",
    "                    bars[:, 0],\n",
    "                    np.arange(len(bars), dtype=int) * 6,\n",
    "                    bars[:, 1],\n",
    "                    np.arange(len(bars), dtype=int) * 6,\n",
    "                ]\n",
    "            )\n",
    "            .swapaxes(1, 0)\n",
    "            .reshape(-1, 2, 2)\n",
    "        )\n",
    "        line_segments = LineCollection(lc, linewidth=5, color=\"gray\", alpha=0.5)\n",
    "        axs[k].set_ylabel(cocycle[k], fontsize=20)\n",
    "        if k == 0:\n",
    "            axs[k].set_ylim(len(bars) * 6 - 120, len(bars) * 6)\n",
    "        elif k == 1:\n",
    "            axs[k].set_ylim(0, len(bars) * 3 - 30)\n",
    "        elif k == 2:\n",
    "            axs[k].set_ylim(0, len(bars) * 6 + 10)\n",
    "        axs[k].add_collection(line_segments)\n",
    "        axs[k].set_yticks([])\n",
    "        if k == 2:\n",
    "            axs[k].set_xticks(np.linspace(0, 2, 3), np\n",
    "                              .linspace(0, 2, 3), fontsize=15)\n",
    "            axs[k].set_xlabel(\"Lifespan\", fontsize=20)\n",
    "    \n",
    "    return fig "
   ]
  },
  {
   "cell_type": "code",
   "execution_count": 51,
   "metadata": {},
   "outputs": [
    {
     "data": {
      "image/png": "[encoded data removed]",
      "text/plain": [
       "<Figure size 700x800 with 2 Axes>"
      ]
     },
     "metadata": {},
     "output_type": "display_data"
    },
    {
     "data": {
      "image/png": "[encoded data removed]",
      "text/plain": [
       "<Figure size 700x800 with 2 Axes>"
      ]
     },
     "metadata": {},
     "output_type": "display_data"
    },
    {
     "data": {
      "image/png": "[encoded data removed]",
      "text/plain": [
       "<Figure size 700x800 with 2 Axes>"
      ]
     },
     "metadata": {},
     "output_type": "display_data"
    }
   ],
   "source": [
    "%matplotlib inline\n",
    "\n",
    "for k in [3,8,16]:\n",
    "    fig=plot_barcode(topology_dimension[k], maxdim)\n",
    "    fig.suptitle(f'Dimension {k}')"
   ]
  },
  {
   "cell_type": "code",
   "execution_count": 52,
   "metadata": {},
   "outputs": [
    {
     "data": {
      "text/plain": [
       "(1000,)"
      ]
     },
     "execution_count": 52,
     "metadata": {},
     "output_type": "execute_result"
    }
   ],
   "source": [
    "np.shape(topology_random_dimension[3]['dgms'][0][:, 1])"
   ]
  },
  {
   "cell_type": "code",
   "execution_count": 53,
   "metadata": {},
   "outputs": [
    {
     "data": {
      "text/plain": [
       "451721"
      ]
     },
     "execution_count": 53,
     "metadata": {},
     "output_type": "execute_result"
    }
   ],
   "source": [
    "topology_dimension[3]['num_edges']"
   ]
  },
  {
   "cell_type": "code",
   "execution_count": 54,
   "metadata": {},
   "outputs": [],
   "source": [
    "from persim import plot_diagrams\n",
    "\n",
    "def read_lifespan(ripser_output, dim):\n",
    "    dim_diff = ripser_output['dgms'][dim][:, 1] - ripser_output['dgms'][dim][:, 0]\n",
    "    if dim == 0:\n",
    "        return dim_diff[~np.isinf(dim_diff)]\n",
    "    else:\n",
    "        return dim_diff\n",
    "\n",
    "def get_max_lifespan(ripser_output_list, maxdim):\n",
    "    lifespan_dic = {i: [] for i in range(maxdim+1)}\n",
    "    # for f in ripser_output_list:\n",
    "    f = ripser_output_list\n",
    "    for dim in range(maxdim+1):\n",
    "        lifespan = read_lifespan(f, dim)\n",
    "        lifespan_dic[dim].extend(lifespan)\n",
    "    return [max(lifespan_dic[i]) for i in range(maxdim+1)], lifespan_dic\n",
    "\n",
    "def get_betti_number(ripser_output, shuffled_max_lifespan):\n",
    "    bettis=[]\n",
    "    for dim in range(len(ripser_output['dgms'])):\n",
    "        lifespans=ripser_output['dgms'][dim][:, 1] - ripser_output['dgms'][dim][:, 0]\n",
    "        betti_d = sum(lifespans > shuffled_max_lifespan[dim] * 1.1)\n",
    "        bettis.append(betti_d)\n",
    "    return bettis\n",
    "\n",
    "def plot_lifespan(topology_dgms, shuffled_max_lifespan, ax, label_vis, maxdim):\n",
    "    plot_diagrams(\n",
    "        topology_dgms,\n",
    "        ax=ax,\n",
    "        legend=True,\n",
    "    )\n",
    "\n",
    "    ax.plot(\n",
    "        [\n",
    "            -0.5,\n",
    "            2,\n",
    "        ],\n",
    "        [-0.5 + shuffled_max_lifespan[0], 2 + shuffled_max_lifespan[0]],\n",
    "        color=\"C0\",\n",
    "        linewidth=3,\n",
    "        alpha=0.5,\n",
    "\n",
    "    )\n",
    "    ax.plot(\n",
    "        [\n",
    "            -0.5,\n",
    "            2,\n",
    "        ],\n",
    "        [-0.5 + shuffled_max_lifespan[1], 2 + shuffled_max_lifespan[1]],\n",
    "        color=\"orange\",\n",
    "        linewidth=3,\n",
    "        alpha=0.5,\n",
    "\n",
    "    )\n",
    "    if maxdim == 2:\n",
    "        ax.plot(\n",
    "            [-0.50, 2],\n",
    "            [-0.5 + shuffled_max_lifespan[2], 2 + shuffled_max_lifespan[2]],\n",
    "            color=\"green\",\n",
    "            linewidth=3,\n",
    "            alpha=0.5,\n",
    "        )\n",
    "    ax.set_xlabel(\"Birth\", fontsize=15)\n",
    "    ax.set_xticks([0, 1, 2])\n",
    "    ax.set_xticklabels([0, 1, 2])\n",
    "    ax.tick_params(labelsize=13)\n",
    "    if label_vis:\n",
    "        ax.set_ylabel(\"Death\", fontsize=15)\n",
    "    else:\n",
    "        ax.set_ylabel(\"\")\n",
    "\n"
   ]
  },
  {
   "cell_type": "code",
   "execution_count": 55,
   "metadata": {},
   "outputs": [
    {
     "name": "stdout",
     "output_type": "stream",
     "text": [
      "Betti No. for dimension 3: [2, 2]\n",
      "Betti No. for dimension 8: [2, 3]\n",
      "Betti No. for dimension 16: [2, 2]\n"
     ]
    },
    {
     "data": {
      "image/png": "[encoded data removed]",
      "text/plain": [
       "<Figure size 1800x500 with 3 Axes>"
      ]
     },
     "metadata": {},
     "output_type": "display_data"
    }
   ],
   "source": [
    "fig = plt.figure(figsize=(18,5))\n",
    "for n, dim in enumerate([3,8,16]):\n",
    "    shuffled_max_lifespan, lifespan_dic = get_max_lifespan(topology_random_dimension[dim], maxdim)\n",
    "    ax = fig.add_subplot(1,3,n+1)\n",
    "    ax.set_title(f'Dimension {dim}')\n",
    "    plot_lifespan(topology_dimension[dim]['dgms'], shuffled_max_lifespan, ax, True, maxdim)\n",
    "    print(f\"Betti No. for dimension {dim}: {get_betti_number(topology_dimension[dim], shuffled_max_lifespan)}\")"
   ]
  },
  {
   "cell_type": "code",
   "execution_count": null,
   "metadata": {},
   "outputs": [],
   "source": []
  }
 ],
 "metadata": {
  "kernelspec": {
   "display_name": "pytorch",
   "language": "python",
   "name": "python3"
  },
  "language_info": {
   "codemirror_mode": {
    "name": "ipython",
    "version": 3
   },
   "file_extension": ".py",
   "mimetype": "text/x-python",
   "name": "python",
   "nbconvert_exporter": "python",
   "pygments_lexer": "ipython3",
   "version": "3.9.19"
  }
 },
 "nbformat": 4,
 "nbformat_minor": 2
}
